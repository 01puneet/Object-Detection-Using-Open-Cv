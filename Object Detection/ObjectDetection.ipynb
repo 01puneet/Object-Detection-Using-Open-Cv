{
 "cells": [
  {
   "cell_type": "code",
   "execution_count": 58,
   "metadata": {},
   "outputs": [],
   "source": [
    "import cv2\n",
    "import numpy as np"
   ]
  },
  {
   "cell_type": "code",
   "execution_count": 61,
   "metadata": {},
   "outputs": [
    {
     "name": "stdout",
     "output_type": "stream",
     "text": [
      "[array([[0.03667117, 0.04239997, 0.41303208, ..., 0.        , 0.        ,\n",
      "        0.        ],\n",
      "       [0.04679615, 0.03509207, 0.3056897 , ..., 0.        , 0.        ,\n",
      "        0.        ],\n",
      "       [0.05174178, 0.03868089, 0.7940535 , ..., 0.        , 0.        ,\n",
      "        0.        ],\n",
      "       ...,\n",
      "       [0.96247804, 0.95257324, 0.45727932, ..., 0.        , 0.        ,\n",
      "        0.        ],\n",
      "       [0.9707252 , 0.9638941 , 0.2991162 , ..., 0.        , 0.        ,\n",
      "        0.        ],\n",
      "       [0.9732905 , 0.96299833, 0.87738   , ..., 0.        , 0.        ,\n",
      "        0.        ]], dtype=float32), array([[0.01851667, 0.02473356, 0.04769821, ..., 0.        , 0.        ,\n",
      "        0.        ],\n",
      "       [0.01969172, 0.01894502, 0.3390342 , ..., 0.        , 0.        ,\n",
      "        0.        ],\n",
      "       [0.0237307 , 0.01639594, 0.07622008, ..., 0.        , 0.        ,\n",
      "        0.        ],\n",
      "       ...,\n",
      "       [0.9770598 , 0.97712   , 0.04529599, ..., 0.        , 0.        ,\n",
      "        0.        ],\n",
      "       [0.9836276 , 0.9798779 , 0.37637758, ..., 0.        , 0.        ,\n",
      "        0.        ],\n",
      "       [0.9819135 , 0.9844177 , 0.07289033, ..., 0.        , 0.        ,\n",
      "        0.        ]], dtype=float32), array([[0.00883362, 0.00488587, 0.01773198, ..., 0.        , 0.        ,\n",
      "        0.        ],\n",
      "       [0.00959461, 0.0105581 , 0.016898  , ..., 0.        , 0.        ,\n",
      "        0.        ],\n",
      "       [0.00938593, 0.00774239, 0.20814413, ..., 0.        , 0.        ,\n",
      "        0.        ],\n",
      "       ...,\n",
      "       [0.98990595, 0.99126685, 0.01764001, ..., 0.        , 0.        ,\n",
      "        0.        ],\n",
      "       [0.9915527 , 0.9876649 , 0.01678191, ..., 0.        , 0.        ,\n",
      "        0.        ],\n",
      "       [0.98804307, 0.99161553, 0.18747681, ..., 0.        , 0.        ,\n",
      "        0.        ]], dtype=float32)]\n"
     ]
    }
   ],
   "source": [
    "net = cv2.dnn.readNet('yolov3.weights','yolov3.cfg')\n",
    "classes = []\n",
    "with open ('coco.names', 'r') as f:\n",
    "    classes = [line.strip()  for line in f.readlines()]\n",
    "layer_names = net.getLayerNames()  \n",
    "outputlayers = [layer_names[i[0] - 1] for i in net.getUnconnectedOutLayers()]\n",
    "colors = np.random.uniform(0, 255, size= (len(classes), 3))\n",
    "#Loading Image \n",
    "img = cv2.imread('dog.jpeg')\n",
    "img = cv2.resize(img, None,  fx=0.5, fy=0.3)\n",
    "height,width,channels = img.shape\n",
    "\n",
    "#Detecting Objects\n",
    "blob = cv2.dnn.blobFromImage(img, 0.00392, (416,416),  (0,0,0), True, crop= False)\n",
    "\n",
    "net.setInput(blob)\n",
    "outs= net.forward(outputlayers)\n",
    "print(outs)\n",
    "\n",
    "#showing informations on the screen\n",
    "class_ids = []\n",
    "confidences = []\n",
    "boxes = []\n",
    "for out in outs:\n",
    "    for detection in out:\n",
    "        scores = detection[5:]\n",
    "        class_id = np.argmax(scores)\n",
    "        confidence = scores[class_id]\n",
    "        if confidence > 0.5:\n",
    "            #object Detected\n",
    "            center_x = int(detection[0] * width)\n",
    "            center_y = int(detection[1] * height)\n",
    "            w = int(detection[2] * width)\n",
    "            h = int(detection[3] * height)\n",
    "            \n",
    "            #Rectangle Coordinates\n",
    "            x = int(center_x - w / 2)\n",
    "            y = int(center_y - h / 2)\n",
    "            \n",
    "            boxes.append([x, y, w, h])\n",
    "            confidences.append(float(confidence))\n",
    "            class_ids.append(class_id)\n",
    "object_detected = len(boxes)\n",
    "indexes = cv2.dnn.NMSBoxes(boxes, confidences, 0.5, 0.4)\n",
    "for i in range(len(boxes)):\n",
    "    if i in indexes:  \n",
    "        x, y, w, h = boxes[i]\n",
    "        label = str(classes[class_ids[i]])\n",
    "        color = colors[i]\n",
    "        cv2.rectangle(img, (x, y), (x+w, y+h), color, 2)\n",
    "        cv2.putText(img, label, (x, y + 30), cv2.FONT_HERSHEY_PLAIN,  3, color, 3)\n",
    "        \n",
    "        \n",
    "            \n",
    "\n",
    "cv2.imshow('Image', img)\n",
    "cv2.waitKey()\n",
    "cv2.destroyAllWindows()"
   ]
  },
  {
   "cell_type": "code",
   "execution_count": null,
   "metadata": {},
   "outputs": [],
   "source": []
  },
  {
   "cell_type": "code",
   "execution_count": null,
   "metadata": {},
   "outputs": [],
   "source": []
  },
  {
   "cell_type": "code",
   "execution_count": null,
   "metadata": {},
   "outputs": [],
   "source": []
  },
  {
   "cell_type": "code",
   "execution_count": null,
   "metadata": {},
   "outputs": [],
   "source": []
  },
  {
   "cell_type": "code",
   "execution_count": null,
   "metadata": {},
   "outputs": [],
   "source": []
  },
  {
   "cell_type": "code",
   "execution_count": null,
   "metadata": {},
   "outputs": [],
   "source": []
  },
  {
   "cell_type": "code",
   "execution_count": null,
   "metadata": {},
   "outputs": [],
   "source": []
  },
  {
   "cell_type": "code",
   "execution_count": null,
   "metadata": {},
   "outputs": [],
   "source": [
    "pip install opencv-python\n"
   ]
  },
  {
   "cell_type": "code",
   "execution_count": null,
   "metadata": {},
   "outputs": [],
   "source": []
  }
 ],
 "metadata": {
  "kernelspec": {
   "display_name": "Python 3",
   "language": "python",
   "name": "python3"
  },
  "language_info": {
   "codemirror_mode": {
    "name": "ipython",
    "version": 3
   },
   "file_extension": ".py",
   "mimetype": "text/x-python",
   "name": "python",
   "nbconvert_exporter": "python",
   "pygments_lexer": "ipython3",
   "version": "3.7.3"
  }
 },
 "nbformat": 4,
 "nbformat_minor": 2
}
